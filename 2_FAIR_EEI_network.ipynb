{
  "cells": [
    {
      "cell_type": "markdown",
      "metadata": {
        "id": "view-in-github",
        "colab_type": "text"
      },
      "source": [
        "<a href=\"https://colab.research.google.com/github/benmsanderson/SCM_MLtuner/blob/main/2_FAIR_EEI_network.ipynb\" target=\"_parent\"><img src=\"https://colab.research.google.com/assets/colab-badge.svg\" alt=\"Open In Colab\"/></a>"
      ]
    },
    {
      "cell_type": "code",
      "execution_count": null,
      "id": "MaQpzbzPm-p3",
      "metadata": {
        "id": "MaQpzbzPm-p3"
      },
      "outputs": [],
      "source": [
        "import numpy as np\n",
        "import matplotlib.pyplot as pl\n",
        "import pickle"
      ]
    },
    {
      "cell_type": "code",
      "execution_count": null,
      "id": "vkNoQ9y3FwX6",
      "metadata": {
        "colab": {
          "base_uri": "https://localhost:8080/"
        },
        "id": "vkNoQ9y3FwX6",
        "outputId": "45bb44b5-1f5d-4469-fba5-58f2023f44fa"
      },
      "outputs": [
        {
          "name": "stdout",
          "output_type": "stream",
          "text": [
            "Mounted at /content/drive\n"
          ]
        }
      ],
      "source": [
        "from google.colab import drive\n",
        "drive.mount('/content/drive')"
      ]
    },
    {
      "cell_type": "code",
      "execution_count": null,
      "id": "hiUgo34q30_G",
      "metadata": {
        "id": "hiUgo34q30_G"
      },
      "outputs": [],
      "source": [
        "  import pickle\n",
        "  targ=pickle.load( open( \"/content/drive/MyDrive/faireei/targ.p\", \"rb\" ) )\n",
        "  obs=pickle.load(  open( \"/content/drive/MyDrive/faireei/obs.p\", \"rb\" ) )\n",
        "  parammat=pickle.load(  open( \"/content/drive/MyDrive/faireei/parammat.p\", \"rb\" ) )\n",
        "  obsunc=np.vstack([0.01,0.01,0.01,0.01,.1]).T\n",
        "  wgts=[1,1,1,1,1]\n",
        "  ndim = parammat.shape[1]\n",
        "  wgts1=[0,0,1,0,1]\n",
        "  wgts2=[0,0,1,1,1]\n",
        "  wgts3=[2,2,1,1,1]"
      ]
    },
    {
      "cell_type": "code",
      "execution_count": null,
      "id": "w8Xe5YbwlXiY",
      "metadata": {
        "colab": {
          "base_uri": "https://localhost:8080/"
        },
        "id": "w8Xe5YbwlXiY",
        "outputId": "802bafe5-b63a-44a1-c5b8-4e7941f6fd31"
      },
      "outputs": [
        {
          "name": "stdout",
          "output_type": "stream",
          "text": [
            "2.15.0\n",
            "Num GPUs Available:  1\n"
          ]
        }
      ],
      "source": [
        "import tensorflow as tf\n",
        "\n",
        "from tensorflow import keras\n",
        "from tensorflow.keras import layers\n",
        "\n",
        "print(tf.__version__)\n",
        "print(\"Num GPUs Available: \", len(tf.config.list_physical_devices('GPU')))\n"
      ]
    },
    {
      "cell_type": "code",
      "execution_count": null,
      "id": "gq0zVnPteMGi",
      "metadata": {
        "id": "gq0zVnPteMGi"
      },
      "outputs": [],
      "source": [
        "def skillscore(targ,obs,obsunc,wgts):\n",
        "  out=-np.sum((((obs-targ)/obsunc)**2)*wgts,axis=1)\n",
        "  return out"
      ]
    },
    {
      "cell_type": "code",
      "execution_count": null,
      "id": "AT6uspJReWNw",
      "metadata": {
        "colab": {
          "base_uri": "https://localhost:8080/"
        },
        "id": "AT6uspJReWNw",
        "outputId": "cae85a3a-4560-4563-97bf-aebf6f83b756"
      },
      "outputs": [
        {
          "data": {
            "text/plain": [
              "array([-2030.62331365, -4397.6798242 ,  -989.98552152, ...,\n",
              "       -1539.75271835,  -668.23513456, -1213.08511   ])"
            ]
          },
          "execution_count": 6,
          "metadata": {},
          "output_type": "execute_result"
        }
      ],
      "source": [
        "skillscore(targ,obs,obsunc,wgts)"
      ]
    },
    {
      "cell_type": "code",
      "execution_count": null,
      "id": "ywWM_Ib4k7Ur",
      "metadata": {
        "id": "ywWM_Ib4k7Ur"
      },
      "outputs": [],
      "source": [
        "nflds=targ.shape[1]"
      ]
    },
    {
      "cell_type": "code",
      "execution_count": null,
      "id": "c26juK7ZG8j-",
      "metadata": {
        "id": "c26juK7ZG8j-"
      },
      "outputs": [],
      "source": [
        "def build_and_compile_model(norm):\n",
        "  model = keras.Sequential([\n",
        "      norm,\n",
        "      layers.Dense(50, activation='tanh'),\n",
        "      layers.Dense(10, activation='tanh'),\n",
        "      layers.Dense(nflds)\n",
        "  ])\n",
        "\n",
        "  model.compile(loss='mean_absolute_error',\n",
        "                optimizer=tf.keras.optimizers.Adam(0.001))\n",
        "  return model"
      ]
    },
    {
      "cell_type": "code",
      "execution_count": null,
      "id": "IH3p0tF1bB9F",
      "metadata": {
        "id": "IH3p0tF1bB9F"
      },
      "outputs": [],
      "source": [
        "#normalizer = tf.keras.layers.Normalization(axis=-1)\n",
        "normalizer = tf.keras.layers.Normalization(input_shape=[parammat.shape[1],], axis=-1)"
      ]
    },
    {
      "cell_type": "code",
      "execution_count": null,
      "id": "Xg3NeP9UbVF9",
      "metadata": {
        "id": "Xg3NeP9UbVF9"
      },
      "outputs": [],
      "source": [
        "normalizer.adapt(parammat)"
      ]
    },
    {
      "cell_type": "code",
      "execution_count": null,
      "id": "irWhLo5zb3b2",
      "metadata": {
        "id": "irWhLo5zb3b2"
      },
      "outputs": [],
      "source": [
        "dnn_model = build_and_compile_model(normalizer)\n"
      ]
    },
    {
      "cell_type": "code",
      "execution_count": null,
      "id": "XT6Ci9agbYSr",
      "metadata": {
        "id": "XT6Ci9agbYSr"
      },
      "outputs": [],
      "source": [
        "from sklearn.model_selection import train_test_split\n",
        "\n",
        "XTraining, XValidation, YTraining, YValidation = train_test_split(parammat,targ,test_size=0.1, shuffle=False) # before model building\n",
        "\n"
      ]
    },
    {
      "cell_type": "code",
      "execution_count": null,
      "id": "va628ka6Q5q6",
      "metadata": {
        "id": "va628ka6Q5q6"
      },
      "outputs": [],
      "source": [
        "try:\n",
        "    with tf.device('/device:XLA_GPU:0'):\n",
        "        X_train = tf.convert_to_tensor(XTraining, dtype=tf.float32)\n",
        "        Y_train = tf.convert_to_tensor(YTraining, dtype=tf.float32)\n",
        "        X_dev = tf.convert_to_tensor(XValidation, dtype=tf.float32)\n",
        "        Y_dev = tf.convert_to_tensor(YValidation, dtype=tf.float32)\n",
        "        #_model = tf.keras.Model(review_input, preds)\n",
        "        #opt = optimizers.Adam()\n",
        "        #_model.compile(loss=\"mean_absolute_error\", optimizer=opt, metrics=['acc'])\n",
        "except RuntimeError as e:\n",
        "  print(e)"
      ]
    },
    {
      "cell_type": "code",
      "execution_count": null,
      "id": "dCQ5biyXRi_G",
      "metadata": {
        "id": "dCQ5biyXRi_G"
      },
      "outputs": [],
      "source": [
        "from tqdm.keras import TqdmCallback"
      ]
    },
    {
      "cell_type": "code",
      "execution_count": null,
      "id": "8cj-1e0ZCThL",
      "metadata": {
        "id": "8cj-1e0ZCThL"
      },
      "outputs": [],
      "source": []
    },
    {
      "cell_type": "code",
      "execution_count": null,
      "id": "q5mN2KCTRQln",
      "metadata": {
        "colab": {
          "background_save": true,
          "referenced_widgets": [
            "f2288cc6bf014b5cb8b1a56d1e437631"
          ]
        },
        "id": "q5mN2KCTRQln",
        "outputId": "f7854e57-852e-41e6-b9bf-10dc9a12c176"
      },
      "outputs": [
        {
          "data": {
            "application/vnd.jupyter.widget-view+json": {
              "model_id": "f2288cc6bf014b5cb8b1a56d1e437631",
              "version_major": 2,
              "version_minor": 0
            },
            "text/plain": [
              "0epoch [00:00, ?epoch/s]"
            ]
          },
          "metadata": {},
          "output_type": "display_data"
        }
      ],
      "source": [
        "if 0:\n",
        "    history=dnn_model.fit(X_train, Y_train, epochs=200000, batch_size=2000, validation_data=(X_dev, Y_dev),verbose=0,callbacks=[TqdmCallback(verbose=0)])\n",
        "    dnn_model.save('/content/drive/MyDrive/faireei/dnn_model.keras')\n",
        "else:\n",
        "    dnn_model = keras.models.load_model('/content/drive/MyDrive/faireei/dnn_model.keras')\n",
        "\n"
      ]
    },
    {
      "cell_type": "code",
      "execution_count": null,
      "id": "VLWpv9hocklt",
      "metadata": {
        "colab": {
          "base_uri": "https://localhost:8080/"
        },
        "id": "VLWpv9hocklt",
        "outputId": "2d50fdb1-b953-4884-ff76-34474f827407"
      },
      "outputs": [
        {
          "name": "stdout",
          "output_type": "stream",
          "text": [
            "13/13 [==============================] - 1s 2ms/step\n",
            "113/113 [==============================] - 0s 2ms/step\n"
          ]
        }
      ],
      "source": [
        "pred = dnn_model.predict(X_dev)\n",
        "pred_t = dnn_model.predict(X_train)\n"
      ]
    },
    {
      "cell_type": "code",
      "execution_count": null,
      "id": "P23epYhRc2fM",
      "metadata": {
        "colab": {
          "base_uri": "https://localhost:8080/",
          "height": 368
        },
        "id": "P23epYhRc2fM",
        "outputId": "34ffbde7-42a3-480e-9cbf-a1aef4a1f51c"
      },
      "outputs": [
        {
          "data": {
            "image/png": "[encoded data removed]",
            "text/plain": [
              "<Figure size 1500x400 with 5 Axes>"
            ]
          },
          "metadata": {},
          "output_type": "display_data"
        }
      ],
      "source": [
        "fig, ax = pl.subplots(1, nflds, figsize=(15, 4))\n",
        "\n",
        "\n",
        "for i in np.arange(nflds):\n",
        "  ax[i].plot(pred_t[:,i],Y_train[:,i],'k.')\n",
        "  ax[i].plot(pred[:,i],YValidation[:,i],'r.')\n",
        "\n",
        "\n"
      ]
    },
    {
      "cell_type": "code",
      "execution_count": null,
      "id": "06tJt8POEAUx",
      "metadata": {
        "id": "06tJt8POEAUx"
      },
      "outputs": [],
      "source": [
        "    dnn_model.save('/content/drive/MyDrive/faireei/dnn_model.keras')\n"
      ]
    },
    {
      "cell_type": "code",
      "execution_count": null,
      "id": "KbuqOkuKHXIL",
      "metadata": {
        "id": "KbuqOkuKHXIL"
      },
      "outputs": [],
      "source": [
        "import numpy as np\n",
        "import matplotlib.pyplot as plt"
      ]
    },
    {
      "cell_type": "code",
      "execution_count": null,
      "id": "_Fw1j1iffNd3",
      "metadata": {
        "id": "_Fw1j1iffNd3"
      },
      "outputs": [],
      "source": [
        "def log_prob(p,obs,obsunc,wgts):\n",
        "    if len(p.shape)==1:\n",
        "      p=p[np.newaxis,:]\n",
        "    out=skillscore(dnn_model.predict(p,verbose = 0),obs,obsunc,wgts).T\n",
        "    out[np.isnan(out)]=-5e5\n",
        "    out[np.abs(out)>5e5]=-5e5\n",
        "\n",
        "    return out"
      ]
    },
    {
      "cell_type": "code",
      "execution_count": null,
      "id": "3JEPCMfWoeve",
      "metadata": {
        "id": "3JEPCMfWoeve"
      },
      "outputs": [],
      "source": []
    },
    {
      "cell_type": "code",
      "execution_count": null,
      "id": "o8aGNmeNkWv4",
      "metadata": {
        "colab": {
          "base_uri": "https://localhost:8080/"
        },
        "id": "o8aGNmeNkWv4",
        "outputId": "3cbef5db-ae21-46b6-ab44-9c8d19b6f150"
      },
      "outputs": [
        {
          "data": {
            "text/plain": [
              "(47,)"
            ]
          },
          "execution_count": 21,
          "metadata": {},
          "output_type": "execute_result"
        }
      ],
      "source": [
        "parammat.min(axis=0).shape"
      ]
    },
    {
      "cell_type": "code",
      "execution_count": null,
      "id": "BkJFoqhEkQT8",
      "metadata": {
        "id": "BkJFoqhEkQT8"
      },
      "outputs": [],
      "source": [
        "from scipy.stats import qmc\n",
        "lhcs = qmc.LatinHypercube(d=ndim)\n",
        "tmp = lhcs.random(n=5000000)\n",
        "large_parammat = qmc.scale(tmp, parammat.min(axis=0), parammat.max(axis=0))"
      ]
    },
    {
      "cell_type": "code",
      "execution_count": null,
      "id": "Lb6ftOJ_iiWL",
      "metadata": {
        "colab": {
          "background_save": true,
          "base_uri": "https://localhost:8080/"
        },
        "id": "Lb6ftOJ_iiWL",
        "outputId": "0db0e57a-9aa6-41de-d1e3-4ef37f84915d"
      },
      "outputs": [
        {
          "name": "stdout",
          "output_type": "stream",
          "text": [
            "156250/156250 [==============================] - 204s 1ms/step\n"
          ]
        }
      ],
      "source": [
        "pred_a = dnn_model.predict(large_parammat)\n"
      ]
    },
    {
      "cell_type": "code",
      "execution_count": null,
      "id": "1s81QrnWg0ll",
      "metadata": {
        "colab": {
          "background_save": true
        },
        "id": "1s81QrnWg0ll"
      },
      "outputs": [],
      "source": [
        "score1=skillscore(pred_a,obs,obsunc,wgts1)\n",
        "score2=skillscore(pred_a,obs,obsunc,wgts2)\n",
        "score3=skillscore(pred_a,obs,obsunc,wgts3)\n",
        "\n"
      ]
    },
    {
      "cell_type": "code",
      "execution_count": null,
      "id": "ebrCPb9DmXeg",
      "metadata": {
        "colab": {
          "background_save": true
        },
        "id": "ebrCPb9DmXeg"
      },
      "outputs": [],
      "source": [
        "p1=np.percentile(score1,99.98)\n",
        "p2=np.percentile(score2,99.98)\n",
        "p3=np.percentile(score3,99.98)\n"
      ]
    },
    {
      "cell_type": "code",
      "execution_count": null,
      "id": "7RJXZ_OKCad7",
      "metadata": {
        "colab": {
          "background_save": true
        },
        "id": "7RJXZ_OKCad7"
      },
      "outputs": [],
      "source": []
    },
    {
      "cell_type": "code",
      "execution_count": null,
      "id": "YH1R0sMGhDEA",
      "metadata": {
        "colab": {
          "background_save": true
        },
        "id": "YH1R0sMGhDEA"
      },
      "outputs": [],
      "source": [
        "\n",
        "wave1=large_parammat[score1>p1,:]\n",
        "wave2=large_parammat[score2>p2,:]\n",
        "wave3=large_parammat[score3>p3,:]\n"
      ]
    },
    {
      "cell_type": "code",
      "execution_count": null,
      "id": "SlnypHggChh_",
      "metadata": {
        "colab": {
          "background_save": true
        },
        "id": "SlnypHggChh_",
        "outputId": "4ec96277-b7d5-479b-e088-3b99684ecfa7"
      },
      "outputs": [
        {
          "data": {
            "text/plain": [
              "(1000, 47)"
            ]
          },
          "execution_count": 27,
          "metadata": {},
          "output_type": "execute_result"
        }
      ],
      "source": [
        "wave1.shape"
      ]
    },
    {
      "cell_type": "code",
      "execution_count": null,
      "id": "UX_VgDNXpST0",
      "metadata": {
        "colab": {
          "background_save": true
        },
        "id": "UX_VgDNXpST0"
      },
      "outputs": [],
      "source": [
        "pred1=pred_a[score1>p1,:]\n",
        "pred2=pred_a[score2>p2,:]\n",
        "pred3=pred_a[score3>p3,:]"
      ]
    },
    {
      "cell_type": "code",
      "execution_count": null,
      "id": "vpwFPhmwhQmR",
      "metadata": {
        "colab": {
          "background_save": true
        },
        "id": "vpwFPhmwhQmR",
        "outputId": "c600492d-8f1c-4c41-8ea2-f6c31ab5c2ce"
      },
      "outputs": [
        {
          "data": {
            "text/plain": [
              "(1000, 47)"
            ]
          },
          "execution_count": 29,
          "metadata": {},
          "output_type": "execute_result"
        }
      ],
      "source": [
        "wave1.shape"
      ]
    },
    {
      "cell_type": "code",
      "execution_count": null,
      "id": "KHDdLG77n-yO",
      "metadata": {
        "id": "KHDdLG77n-yO"
      },
      "outputs": [],
      "source": [
        "plt.plot(pred_a[:,0],pred_a[:,1],'.')\n",
        "plt.plot(pred1[:,0],pred1[:,1],'y.')\n",
        "\n",
        "plt.plot(pred3[:,0],pred3[:,1],'r.')\n"
      ]
    },
    {
      "cell_type": "code",
      "execution_count": null,
      "id": "YKYlaevwv4B2",
      "metadata": {
        "id": "YKYlaevwv4B2"
      },
      "outputs": [],
      "source": [
        "wave1.shape"
      ]
    },
    {
      "cell_type": "code",
      "execution_count": null,
      "id": "-sF72g44sdqY",
      "metadata": {
        "id": "-sF72g44sdqY"
      },
      "outputs": [],
      "source": [
        "  import pickle\n",
        "\n",
        "  pickle.dump( wave1, open( \"/content/drive/MyDrive/faireei/wave1.p\", \"wb\" ) )\n",
        "  pickle.dump( wave2, open( \"/content/drive/MyDrive/faireei/wave2.p\", \"wb\" ) )\n",
        "  pickle.dump( wave3, open( \"/content/drive/MyDrive/faireei/wave3.p\", \"wb\" ) )\n",
        "\n"
      ]
    }
  ],
  "metadata": {
    "accelerator": "GPU",
    "colab": {
      "gpuType": "V100",
      "machine_shape": "hm",
      "provenance": [],
      "include_colab_link": true
    },
    "kernelspec": {
      "display_name": "Python 3",
      "name": "python3"
    },
    "language_info": {
      "codemirror_mode": {
        "name": "ipython",
        "version": 3
      },
      "file_extension": ".py",
      "mimetype": "text/x-python",
      "name": "python",
      "nbconvert_exporter": "python",
      "pygments_lexer": "ipython3",
      "version": "3.11.2"
    }
  },
  "nbformat": 4,
  "nbformat_minor": 5
}