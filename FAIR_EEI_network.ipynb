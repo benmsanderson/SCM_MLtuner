{
  "cells": [
    {
      "cell_type": "markdown",
      "metadata": {
        "id": "view-in-github",
        "colab_type": "text"
      },
      "source": [
        "<a href=\"https://colab.research.google.com/github/benmsanderson/SCM_MLtuner/blob/main/FAIR_EEI_network.ipynb\" target=\"_parent\"><img src=\"https://colab.research.google.com/assets/colab-badge.svg\" alt=\"Open In Colab\"/></a>"
      ]
    },
    {
      "cell_type": "code",
      "execution_count": 1,
      "metadata": {
        "id": "MaQpzbzPm-p3"
      },
      "outputs": [],
      "source": [
        "import numpy as np\n",
        "import matplotlib.pyplot as pl\n",
        "import pickle"
      ],
      "id": "MaQpzbzPm-p3"
    },
    {
      "cell_type": "code",
      "execution_count": 2,
      "metadata": {
        "colab": {
          "base_uri": "https://localhost:8080/"
        },
        "id": "vkNoQ9y3FwX6",
        "outputId": "c3a2b766-4765-49d8-e49b-224aa298ae57"
      },
      "outputs": [
        {
          "output_type": "stream",
          "name": "stdout",
          "text": [
            "Mounted at /content/drive\n"
          ]
        }
      ],
      "source": [
        "from google.colab import drive\n",
        "drive.mount('/content/drive')"
      ],
      "id": "vkNoQ9y3FwX6"
    },
    {
      "cell_type": "code",
      "execution_count": 3,
      "metadata": {
        "id": "hiUgo34q30_G"
      },
      "outputs": [],
      "source": [
        "  import pickle\n",
        "  targ=pickle.load( open( \"/content/drive/MyDrive/faireei/targ.p\", \"rb\" ) )\n",
        "  obs=pickle.load(  open( \"/content/drive/MyDrive/faireei/obs.p\", \"rb\" ) )\n",
        "  parammat=pickle.load(  open( \"/content/drive/MyDrive/faireei/parammat.p\", \"rb\" ) )\n",
        "  obsunc=np.vstack([0.01,0.01,0.01,0.01,.1]).T\n",
        "  wgts=[1,1,1,1,1]\n"
      ],
      "id": "hiUgo34q30_G"
    },
    {
      "cell_type": "code",
      "execution_count": 4,
      "metadata": {
        "colab": {
          "base_uri": "https://localhost:8080/"
        },
        "id": "w8Xe5YbwlXiY",
        "outputId": "1f8a5792-584b-42bd-df8a-4049f9bd55fd"
      },
      "outputs": [
        {
          "output_type": "stream",
          "name": "stdout",
          "text": [
            "2.15.0\n",
            "Num GPUs Available:  1\n"
          ]
        }
      ],
      "source": [
        "import tensorflow as tf\n",
        "\n",
        "from tensorflow import keras\n",
        "from tensorflow.keras import layers\n",
        "\n",
        "print(tf.__version__)\n",
        "print(\"Num GPUs Available: \", len(tf.config.list_physical_devices('GPU')))\n"
      ],
      "id": "w8Xe5YbwlXiY"
    },
    {
      "cell_type": "code",
      "execution_count": 5,
      "metadata": {
        "id": "gq0zVnPteMGi"
      },
      "outputs": [],
      "source": [
        "def skillscore(targ,obs,obsunc,wgts):\n",
        "  out=-np.sum((((obs-targ)/obsunc)**2)*wgts,axis=1)\n",
        "  return out"
      ],
      "id": "gq0zVnPteMGi"
    },
    {
      "cell_type": "code",
      "execution_count": 6,
      "metadata": {
        "colab": {
          "base_uri": "https://localhost:8080/"
        },
        "id": "AT6uspJReWNw",
        "outputId": "c1b028ff-af75-42bd-f6c8-e681a2b1d221"
      },
      "outputs": [
        {
          "output_type": "execute_result",
          "data": {
            "text/plain": [
              "array([ -10100.25224496,  -18217.57053933, -416827.4447887 , ...,\n",
              "        -11832.80253313,  -44264.24476014,  -45998.30625683])"
            ]
          },
          "metadata": {},
          "execution_count": 6
        }
      ],
      "source": [
        "skillscore(targ,obs,obsunc,wgts)"
      ],
      "id": "AT6uspJReWNw"
    },
    {
      "cell_type": "code",
      "execution_count": 7,
      "metadata": {
        "id": "ywWM_Ib4k7Ur"
      },
      "outputs": [],
      "source": [
        "nflds=targ.shape[1]"
      ],
      "id": "ywWM_Ib4k7Ur"
    },
    {
      "cell_type": "code",
      "execution_count": 8,
      "metadata": {
        "id": "c26juK7ZG8j-"
      },
      "outputs": [],
      "source": [
        "def build_and_compile_model(norm):\n",
        "  model = keras.Sequential([\n",
        "      norm,\n",
        "      layers.Dense(50, activation='tanh'),\n",
        "      layers.Dense(10, activation='tanh'),\n",
        "      layers.Dense(nflds)\n",
        "  ])\n",
        "\n",
        "  model.compile(loss='mean_absolute_error',\n",
        "                optimizer=tf.keras.optimizers.Adam(0.001))\n",
        "  return model"
      ],
      "id": "c26juK7ZG8j-"
    },
    {
      "cell_type": "code",
      "execution_count": 41,
      "metadata": {
        "id": "IH3p0tF1bB9F"
      },
      "outputs": [],
      "source": [
        "#normalizer = tf.keras.layers.Normalization(axis=-1)\n",
        "normalizer = tf.keras.layers.Normalization(input_shape=[47,], axis=-1)"
      ],
      "id": "IH3p0tF1bB9F"
    },
    {
      "cell_type": "code",
      "execution_count": 42,
      "metadata": {
        "id": "Xg3NeP9UbVF9"
      },
      "outputs": [],
      "source": [
        "normalizer.adapt(parammat)"
      ],
      "id": "Xg3NeP9UbVF9"
    },
    {
      "cell_type": "code",
      "execution_count": 43,
      "metadata": {
        "id": "irWhLo5zb3b2"
      },
      "outputs": [],
      "source": [
        "dnn_model = build_and_compile_model(normalizer)\n"
      ],
      "id": "irWhLo5zb3b2"
    },
    {
      "cell_type": "code",
      "execution_count": 44,
      "metadata": {
        "id": "XT6Ci9agbYSr"
      },
      "outputs": [],
      "source": [
        "from sklearn.model_selection import train_test_split\n",
        "\n",
        "XTraining, XValidation, YTraining, YValidation = train_test_split(parammat,targ,test_size=0.1, shuffle=False) # before model building\n",
        "\n"
      ],
      "id": "XT6Ci9agbYSr"
    },
    {
      "cell_type": "code",
      "execution_count": 45,
      "metadata": {
        "id": "va628ka6Q5q6"
      },
      "outputs": [],
      "source": [
        "try:\n",
        "    with tf.device('/device:XLA_GPU:0'):\n",
        "        X_train = tf.convert_to_tensor(XTraining, dtype=tf.float32)\n",
        "        Y_train = tf.convert_to_tensor(YTraining, dtype=tf.float32)\n",
        "        X_dev = tf.convert_to_tensor(XValidation, dtype=tf.float32)\n",
        "        Y_dev = tf.convert_to_tensor(YValidation, dtype=tf.float32)\n",
        "        #_model = tf.keras.Model(review_input, preds)\n",
        "        #opt = optimizers.Adam()\n",
        "        #_model.compile(loss=\"mean_absolute_error\", optimizer=opt, metrics=['acc'])\n",
        "except RuntimeError as e:\n",
        "  print(e)"
      ],
      "id": "va628ka6Q5q6"
    },
    {
      "cell_type": "code",
      "execution_count": 46,
      "metadata": {
        "id": "dCQ5biyXRi_G"
      },
      "outputs": [],
      "source": [
        "from tqdm.keras import TqdmCallback"
      ],
      "id": "dCQ5biyXRi_G"
    },
    {
      "cell_type": "code",
      "execution_count": 55,
      "metadata": {
        "colab": {
          "base_uri": "https://localhost:8080/",
          "height": 49,
          "referenced_widgets": [
            "f0a3c6ead4084fddab0635380837e0cc",
            "03ee1df4455e4fb9aa1a10c8637ef64c",
            "4124260722f64762b6415be7b2912b76",
            "8246cdda96d44a229230466025a0d8f2",
            "cc14db08e15d430fbf1163e25674b344",
            "5c5727afcc43427d8e54a76027cdc015",
            "d440f5a547e94f86b9c4c73beec66a7d",
            "14eb5dd086fa449ca676edf39a014fed",
            "6578cab8a7dc48e6a144d611c3eaad30",
            "3a0fd8afa2414c21baa055d4f9ac7bbe",
            "c57fc60f56dc4ef1b02e397b54b8c6fc"
          ]
        },
        "id": "q5mN2KCTRQln",
        "outputId": "0010b498-f12b-4b8b-fbb5-47efc636cd63"
      },
      "outputs": [
        {
          "output_type": "display_data",
          "data": {
            "text/plain": [
              "0epoch [00:00, ?epoch/s]"
            ],
            "application/vnd.jupyter.widget-view+json": {
              "version_major": 2,
              "version_minor": 0,
              "model_id": "f0a3c6ead4084fddab0635380837e0cc"
            }
          },
          "metadata": {}
        }
      ],
      "source": [
        "if 1:\n",
        "    history=dnn_model.fit(X_train, Y_train, epochs=20000, batch_size=2000, validation_data=(X_dev, Y_dev),verbose=0,callbacks=[TqdmCallback(verbose=0)])\n",
        "    dnn_model.save('/content/drive/MyDrive/faireei/dnn_model.keras')\n",
        "else:\n",
        "    dnn_model = keras.models.load_model('/content/drive/MyDrive/faireei/dnn_model.keras')\n",
        "\n"
      ],
      "id": "q5mN2KCTRQln"
    },
    {
      "cell_type": "code",
      "execution_count": null,
      "metadata": {
        "id": "3ceTEdTIQkRq"
      },
      "outputs": [],
      "source": [],
      "id": "3ceTEdTIQkRq"
    },
    {
      "cell_type": "code",
      "execution_count": 56,
      "metadata": {
        "colab": {
          "base_uri": "https://localhost:8080/"
        },
        "id": "VLWpv9hocklt",
        "outputId": "978b0a6b-63e4-4028-a1b2-4042165c8277"
      },
      "outputs": [
        {
          "output_type": "stream",
          "name": "stdout",
          "text": [
            "63/63 [==============================] - 0s 2ms/step\n",
            "563/563 [==============================] - 1s 1ms/step\n"
          ]
        }
      ],
      "source": [
        "pred = dnn_model.predict(X_dev)\n",
        "pred_t = dnn_model.predict(X_train)\n"
      ],
      "id": "VLWpv9hocklt"
    },
    {
      "cell_type": "code",
      "execution_count": 57,
      "metadata": {
        "colab": {
          "base_uri": "https://localhost:8080/",
          "height": 317
        },
        "id": "P23epYhRc2fM",
        "outputId": "ec505a1a-4f5b-4996-b88d-506394142ceb"
      },
      "outputs": [
        {
          "output_type": "display_data",
          "data": {
            "text/plain": [
              "<Figure size 1500x400 with 5 Axes>"
            ],
            "image/png": "[encoded data removed]"
          },
          "metadata": {}
        }
      ],
      "source": [
        "fig, ax = pl.subplots(1, nflds, figsize=(15, 4))\n",
        "\n",
        "\n",
        "for i in np.arange(nflds):\n",
        "  ax[i].plot(pred_t[:,i],Y_train[:,i],'k.')\n",
        "  ax[i].plot(pred[:,i],YValidation[:,i],'r.')\n",
        "\n",
        "\n"
      ],
      "id": "P23epYhRc2fM"
    },
    {
      "cell_type": "code",
      "execution_count": null,
      "metadata": {
        "id": "_Fw1j1iffNd3"
      },
      "outputs": [],
      "source": [
        "def log_prob(p,obs,obsunc,wgts):\n",
        "    if len(p.shape)==1:\n",
        "      p=p[np.newaxis,:]\n",
        "    out=skillscore(dnn_model.predict(p,verbose = 0),obs,obsunc,wgts).T\n",
        "    out[np.isnan(out)]=1e3\n",
        "    return out"
      ],
      "id": "_Fw1j1iffNd3"
    },
    {
      "cell_type": "code",
      "execution_count": null,
      "metadata": {
        "id": "ITXO7cJTM6U0"
      },
      "outputs": [],
      "source": [],
      "id": "ITXO7cJTM6U0"
    },
    {
      "cell_type": "code",
      "execution_count": null,
      "metadata": {
        "id": "mGaYyOqtgVPY"
      },
      "outputs": [],
      "source": [
        "!pip install emcee"
      ],
      "id": "mGaYyOqtgVPY"
    },
    {
      "cell_type": "code",
      "execution_count": null,
      "metadata": {
        "id": "Ypya06Afa6gj"
      },
      "outputs": [],
      "source": [
        "import numpy as np\n",
        "import emcee\n",
        "\n",
        "\n",
        "nw=100\n",
        "ndim = df_configs.values.shape[1]\n",
        "p0 = df_configs.values[:nw,:]\n",
        "plt.hist(log_prob(p0,obs,obsunc))"
      ],
      "id": "Ypya06Afa6gj"
    },
    {
      "cell_type": "code",
      "execution_count": null,
      "metadata": {
        "id": "uItkcbxUFvcZ"
      },
      "outputs": [],
      "source": [],
      "id": "uItkcbxUFvcZ"
    },
    {
      "cell_type": "code",
      "execution_count": null,
      "metadata": {
        "id": "S5BHu_geF2Ls"
      },
      "outputs": [],
      "source": [
        "wgts1=[0,0,1,0,1]\n",
        "wgts2=[0,0,1,1,1]\n",
        "wgts3=[1,1,1,1,1]\n",
        "\n",
        "if 0\n",
        "sampler1 = emcee.EnsembleSampler(nw, ndim, log_prob, args=(obs,obsunc,wgts1),vectorize=True)\n",
        "sampler1.run_mcmc(p0, 20000,progress=True)\n",
        "sampler2 = emcee.EnsembleSampler(nw, ndim, log_prob, args=(obs,obsunc,wgts2),vectorize=True)\n",
        "sampler2.run_mcmc(p0, 20000,progress=True)\n",
        "sampler3 = emcee.EnsembleSampler(nw, ndim, log_prob, args=(obs,obsunc,wgts3),vectorize=True)\n",
        "sampler3.run_mcmc(p0, 20000,progress=True)\n"
      ],
      "id": "S5BHu_geF2Ls"
    },
    {
      "cell_type": "code",
      "execution_count": null,
      "metadata": {
        "id": "pLJzBw5mF38Q"
      },
      "outputs": [],
      "source": [
        "\n",
        "\n",
        "  pickle.dump( sampler1, open( \"/content/drive/MyDrive/faireei/sampler1.p\", \"wb\" ) )\n",
        "  pickle.dump( sampler2, open( \"/content/drive/MyDrive/faireei/sampler2.p\", \"wb\" ) )\n",
        "  pickle.dump( sampler3, open( \"/content/drive/MyDrive/faireei/sampler3.p\", \"wb\" ) )\n",
        "\n",
        "\n"
      ],
      "id": "pLJzBw5mF38Q"
    },
    {
      "cell_type": "code",
      "execution_count": null,
      "metadata": {
        "id": "r2VE6h8CwlzU"
      },
      "outputs": [],
      "source": [
        "flat_samples = sampler.get_chain(discard=1000, thin=15, flat=True)"
      ],
      "id": "r2VE6h8CwlzU"
    },
    {
      "cell_type": "code",
      "execution_count": null,
      "metadata": {
        "id": "P0lOe5VwGVJV"
      },
      "outputs": [],
      "source": [],
      "id": "P0lOe5VwGVJV"
    },
    {
      "cell_type": "code",
      "execution_count": null,
      "metadata": {
        "id": "T0Q8YRW-SXVO"
      },
      "outputs": [],
      "source": [
        "sampler.chain[:,:,:].shape"
      ],
      "id": "T0Q8YRW-SXVO"
    },
    {
      "cell_type": "code",
      "execution_count": null,
      "metadata": {
        "id": "7FwVu5y5asJu"
      },
      "outputs": [],
      "source": [
        "plt.hist(log_prob(p0,obs,obsunc))\n",
        "plt.xlim([-500,0])"
      ],
      "id": "7FwVu5y5asJu"
    },
    {
      "cell_type": "code",
      "execution_count": null,
      "metadata": {
        "id": "yhsCqND7ahYO"
      },
      "outputs": [],
      "source": [
        "plt.hist(log_prob(flat_samples,obs,obsunc))"
      ],
      "id": "yhsCqND7ahYO"
    },
    {
      "cell_type": "code",
      "execution_count": null,
      "metadata": {
        "id": "G4YqUtTot3G0"
      },
      "outputs": [],
      "source": [
        "flat_samples = sampler.get_chain(discard=100, thin=15, flat=True)"
      ],
      "id": "G4YqUtTot3G0"
    },
    {
      "cell_type": "code",
      "execution_count": null,
      "metadata": {
        "id": "NHC8cAu4MN56"
      },
      "outputs": [],
      "source": [
        "plt.hist(dnn_model.predict(flat_samples)[:,4])"
      ],
      "id": "NHC8cAu4MN56"
    },
    {
      "cell_type": "code",
      "execution_count": null,
      "metadata": {
        "id": "DC5vgWxbUuXJ"
      },
      "outputs": [],
      "source": [
        "weights_51yr = np.ones(52)\n",
        "weights_51yr[0] = 0.5\n",
        "weights_51yr[-1] = 0.5"
      ],
      "id": "DC5vgWxbUuXJ"
    },
    {
      "cell_type": "code",
      "execution_count": null,
      "metadata": {
        "id": "b14c8149"
      },
      "outputs": [],
      "source": [
        "fig, ax = pl.subplots(2, 4, figsize=(12, 6))\n",
        "\n",
        "for i, scenario in enumerate(scenarios):\n",
        "    for pp in ((0, 100), (5, 95), (16, 84)):\n",
        "        ax[i // 4, i % 4].fill_between(\n",
        "            f.timebounds,\n",
        "            np.percentile(\n",
        "                f.temperature.loc[dict(scenario=scenario, layer=0)]\n",
        "                - np.average(\n",
        "                    f.temperature.loc[\n",
        "                        dict(scenario=scenario, timebounds=np.arange(1850, 1902), layer=0)\n",
        "                    ],\n",
        "                    weights=weights_51yr,\n",
        "                    axis=0\n",
        "                ),\n",
        "                pp[0],\n",
        "                axis=1,\n",
        "            ),\n",
        "            np.percentile(\n",
        "                f.temperature.loc[dict(scenario=scenario, layer=0)]\n",
        "                - np.average(\n",
        "                    f.temperature.loc[\n",
        "                        dict(scenario=scenario, timebounds=np.arange(1850, 1902), layer=0)\n",
        "                    ],\n",
        "                    weights=weights_51yr,\n",
        "                    axis=0\n",
        "                ),\n",
        "                pp[1],\n",
        "                axis=1,\n",
        "            ),\n",
        "            color=ar6_colors[scenarios[i]],\n",
        "            alpha=0.2,\n",
        "            lw=0\n",
        "        )\n",
        "\n",
        "    ax[i // 4, i % 4].plot(\n",
        "        f.timebounds,\n",
        "        np.median(\n",
        "            f.temperature.loc[dict(scenario=scenario, layer=0)]\n",
        "            - np.average(\n",
        "                f.temperature.loc[\n",
        "                    dict(scenario=scenario, timebounds=np.arange(1850, 1902), layer=0)\n",
        "                ],\n",
        "                weights=weights_51yr,\n",
        "                axis=0\n",
        "            ),\n",
        "            axis=1,\n",
        "        ),\n",
        "        color=ar6_colors[scenarios[i]],\n",
        "    )\n",
        "#     ax[i // 4, i % 4].plot(np.arange(1850.5, 2021), gmst, color=\"k\")\n",
        "    ax[i // 4, i % 4].set_xlim(1850, 2300)\n",
        "    ax[i // 4, i % 4].set_ylim(-1, 10)\n",
        "    ax[i // 4, i % 4].axhline(0, color=\"k\", ls=\":\", lw=0.5)\n",
        "    ax[i // 4, i % 4].set_title(fancy_titles[scenarios[i]])\n",
        "\n",
        "pl.suptitle(\"SSP temperature anomalies\")\n",
        "fig.tight_layout()"
      ],
      "id": "b14c8149"
    }
  ],
  "metadata": {
    "accelerator": "GPU",
    "colab": {
      "gpuType": "V100",
      "machine_shape": "hm",
      "provenance": [],
      "include_colab_link": true
    },
    "kernelspec": {
      "display_name": "Python 3",
      "name": "python3"
    },
    "language_info": {
      "codemirror_mode": {
        "name": "ipython",
        "version": 3
      },
      "file_extension": ".py",
      "mimetype": "text/x-python",
      "name": "python",
      "nbconvert_exporter": "python",
      "pygments_lexer": "ipython3",
      "version": "3.11.2"
    },
    "widgets": {
      "application/vnd.jupyter.widget-state+json": {
        "f0a3c6ead4084fddab0635380837e0cc": {
          "model_module": "@jupyter-widgets/controls",
          "model_name": "HBoxModel",
          "model_module_version": "1.5.0",
          "state": {
            "_dom_classes": [],
            "_model_module": "@jupyter-widgets/controls",
            "_model_module_version": "1.5.0",
            "_model_name": "HBoxModel",
            "_view_count": null,
            "_view_module": "@jupyter-widgets/controls",
            "_view_module_version": "1.5.0",
            "_view_name": "HBoxView",
            "box_style": "",
            "children": [
              "IPY_MODEL_03ee1df4455e4fb9aa1a10c8637ef64c",
              "IPY_MODEL_4124260722f64762b6415be7b2912b76",
              "IPY_MODEL_8246cdda96d44a229230466025a0d8f2"
            ],
            "layout": "IPY_MODEL_cc14db08e15d430fbf1163e25674b344"
          }
        },
        "03ee1df4455e4fb9aa1a10c8637ef64c": {
          "model_module": "@jupyter-widgets/controls",
          "model_name": "HTMLModel",
          "model_module_version": "1.5.0",
          "state": {
            "_dom_classes": [],
            "_model_module": "@jupyter-widgets/controls",
            "_model_module_version": "1.5.0",
            "_model_name": "HTMLModel",
            "_view_count": null,
            "_view_module": "@jupyter-widgets/controls",
            "_view_module_version": "1.5.0",
            "_view_name": "HTMLView",
            "description": "",
            "description_tooltip": null,
            "layout": "IPY_MODEL_5c5727afcc43427d8e54a76027cdc015",
            "placeholder": "​",
            "style": "IPY_MODEL_d440f5a547e94f86b9c4c73beec66a7d",
            "value": "100%"
          }
        },
        "4124260722f64762b6415be7b2912b76": {
          "model_module": "@jupyter-widgets/controls",
          "model_name": "FloatProgressModel",
          "model_module_version": "1.5.0",
          "state": {
            "_dom_classes": [],
            "_model_module": "@jupyter-widgets/controls",
            "_model_module_version": "1.5.0",
            "_model_name": "FloatProgressModel",
            "_view_count": null,
            "_view_module": "@jupyter-widgets/controls",
            "_view_module_version": "1.5.0",
            "_view_name": "ProgressView",
            "bar_style": "success",
            "description": "",
            "description_tooltip": null,
            "layout": "IPY_MODEL_14eb5dd086fa449ca676edf39a014fed",
            "max": 20000,
            "min": 0,
            "orientation": "horizontal",
            "style": "IPY_MODEL_6578cab8a7dc48e6a144d611c3eaad30",
            "value": 20000
          }
        },
        "8246cdda96d44a229230466025a0d8f2": {
          "model_module": "@jupyter-widgets/controls",
          "model_name": "HTMLModel",
          "model_module_version": "1.5.0",
          "state": {
            "_dom_classes": [],
            "_model_module": "@jupyter-widgets/controls",
            "_model_module_version": "1.5.0",
            "_model_name": "HTMLModel",
            "_view_count": null,
            "_view_module": "@jupyter-widgets/controls",
            "_view_module_version": "1.5.0",
            "_view_name": "HTMLView",
            "description": "",
            "description_tooltip": null,
            "layout": "IPY_MODEL_3a0fd8afa2414c21baa055d4f9ac7bbe",
            "placeholder": "​",
            "style": "IPY_MODEL_c57fc60f56dc4ef1b02e397b54b8c6fc",
            "value": " 20000/20000 [13:18&lt;00:00, 25.42epoch/s, loss=0.113, val_loss=0.12]"
          }
        },
        "cc14db08e15d430fbf1163e25674b344": {
          "model_module": "@jupyter-widgets/base",
          "model_name": "LayoutModel",
          "model_module_version": "1.2.0",
          "state": {
            "_model_module": "@jupyter-widgets/base",
            "_model_module_version": "1.2.0",
            "_model_name": "LayoutModel",
            "_view_count": null,
            "_view_module": "@jupyter-widgets/base",
            "_view_module_version": "1.2.0",
            "_view_name": "LayoutView",
            "align_content": null,
            "align_items": null,
            "align_self": null,
            "border": null,
            "bottom": null,
            "display": null,
            "flex": null,
            "flex_flow": null,
            "grid_area": null,
            "grid_auto_columns": null,
            "grid_auto_flow": null,
            "grid_auto_rows": null,
            "grid_column": null,
            "grid_gap": null,
            "grid_row": null,
            "grid_template_areas": null,
            "grid_template_columns": null,
            "grid_template_rows": null,
            "height": null,
            "justify_content": null,
            "justify_items": null,
            "left": null,
            "margin": null,
            "max_height": null,
            "max_width": null,
            "min_height": null,
            "min_width": null,
            "object_fit": null,
            "object_position": null,
            "order": null,
            "overflow": null,
            "overflow_x": null,
            "overflow_y": null,
            "padding": null,
            "right": null,
            "top": null,
            "visibility": null,
            "width": null
          }
        },
        "5c5727afcc43427d8e54a76027cdc015": {
          "model_module": "@jupyter-widgets/base",
          "model_name": "LayoutModel",
          "model_module_version": "1.2.0",
          "state": {
            "_model_module": "@jupyter-widgets/base",
            "_model_module_version": "1.2.0",
            "_model_name": "LayoutModel",
            "_view_count": null,
            "_view_module": "@jupyter-widgets/base",
            "_view_module_version": "1.2.0",
            "_view_name": "LayoutView",
            "align_content": null,
            "align_items": null,
            "align_self": null,
            "border": null,
            "bottom": null,
            "display": null,
            "flex": null,
            "flex_flow": null,
            "grid_area": null,
            "grid_auto_columns": null,
            "grid_auto_flow": null,
            "grid_auto_rows": null,
            "grid_column": null,
            "grid_gap": null,
            "grid_row": null,
            "grid_template_areas": null,
            "grid_template_columns": null,
            "grid_template_rows": null,
            "height": null,
            "justify_content": null,
            "justify_items": null,
            "left": null,
            "margin": null,
            "max_height": null,
            "max_width": null,
            "min_height": null,
            "min_width": null,
            "object_fit": null,
            "object_position": null,
            "order": null,
            "overflow": null,
            "overflow_x": null,
            "overflow_y": null,
            "padding": null,
            "right": null,
            "top": null,
            "visibility": null,
            "width": null
          }
        },
        "d440f5a547e94f86b9c4c73beec66a7d": {
          "model_module": "@jupyter-widgets/controls",
          "model_name": "DescriptionStyleModel",
          "model_module_version": "1.5.0",
          "state": {
            "_model_module": "@jupyter-widgets/controls",
            "_model_module_version": "1.5.0",
            "_model_name": "DescriptionStyleModel",
            "_view_count": null,
            "_view_module": "@jupyter-widgets/base",
            "_view_module_version": "1.2.0",
            "_view_name": "StyleView",
            "description_width": ""
          }
        },
        "14eb5dd086fa449ca676edf39a014fed": {
          "model_module": "@jupyter-widgets/base",
          "model_name": "LayoutModel",
          "model_module_version": "1.2.0",
          "state": {
            "_model_module": "@jupyter-widgets/base",
            "_model_module_version": "1.2.0",
            "_model_name": "LayoutModel",
            "_view_count": null,
            "_view_module": "@jupyter-widgets/base",
            "_view_module_version": "1.2.0",
            "_view_name": "LayoutView",
            "align_content": null,
            "align_items": null,
            "align_self": null,
            "border": null,
            "bottom": null,
            "display": null,
            "flex": null,
            "flex_flow": null,
            "grid_area": null,
            "grid_auto_columns": null,
            "grid_auto_flow": null,
            "grid_auto_rows": null,
            "grid_column": null,
            "grid_gap": null,
            "grid_row": null,
            "grid_template_areas": null,
            "grid_template_columns": null,
            "grid_template_rows": null,
            "height": null,
            "justify_content": null,
            "justify_items": null,
            "left": null,
            "margin": null,
            "max_height": null,
            "max_width": null,
            "min_height": null,
            "min_width": null,
            "object_fit": null,
            "object_position": null,
            "order": null,
            "overflow": null,
            "overflow_x": null,
            "overflow_y": null,
            "padding": null,
            "right": null,
            "top": null,
            "visibility": null,
            "width": null
          }
        },
        "6578cab8a7dc48e6a144d611c3eaad30": {
          "model_module": "@jupyter-widgets/controls",
          "model_name": "ProgressStyleModel",
          "model_module_version": "1.5.0",
          "state": {
            "_model_module": "@jupyter-widgets/controls",
            "_model_module_version": "1.5.0",
            "_model_name": "ProgressStyleModel",
            "_view_count": null,
            "_view_module": "@jupyter-widgets/base",
            "_view_module_version": "1.2.0",
            "_view_name": "StyleView",
            "bar_color": null,
            "description_width": ""
          }
        },
        "3a0fd8afa2414c21baa055d4f9ac7bbe": {
          "model_module": "@jupyter-widgets/base",
          "model_name": "LayoutModel",
          "model_module_version": "1.2.0",
          "state": {
            "_model_module": "@jupyter-widgets/base",
            "_model_module_version": "1.2.0",
            "_model_name": "LayoutModel",
            "_view_count": null,
            "_view_module": "@jupyter-widgets/base",
            "_view_module_version": "1.2.0",
            "_view_name": "LayoutView",
            "align_content": null,
            "align_items": null,
            "align_self": null,
            "border": null,
            "bottom": null,
            "display": null,
            "flex": null,
            "flex_flow": null,
            "grid_area": null,
            "grid_auto_columns": null,
            "grid_auto_flow": null,
            "grid_auto_rows": null,
            "grid_column": null,
            "grid_gap": null,
            "grid_row": null,
            "grid_template_areas": null,
            "grid_template_columns": null,
            "grid_template_rows": null,
            "height": null,
            "justify_content": null,
            "justify_items": null,
            "left": null,
            "margin": null,
            "max_height": null,
            "max_width": null,
            "min_height": null,
            "min_width": null,
            "object_fit": null,
            "object_position": null,
            "order": null,
            "overflow": null,
            "overflow_x": null,
            "overflow_y": null,
            "padding": null,
            "right": null,
            "top": null,
            "visibility": null,
            "width": null
          }
        },
        "c57fc60f56dc4ef1b02e397b54b8c6fc": {
          "model_module": "@jupyter-widgets/controls",
          "model_name": "DescriptionStyleModel",
          "model_module_version": "1.5.0",
          "state": {
            "_model_module": "@jupyter-widgets/controls",
            "_model_module_version": "1.5.0",
            "_model_name": "DescriptionStyleModel",
            "_view_count": null,
            "_view_module": "@jupyter-widgets/base",
            "_view_module_version": "1.2.0",
            "_view_name": "StyleView",
            "description_width": ""
          }
        }
      }
    }
  },
  "nbformat": 4,
  "nbformat_minor": 5
}